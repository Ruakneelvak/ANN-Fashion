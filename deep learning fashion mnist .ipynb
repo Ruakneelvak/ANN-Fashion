{
 "cells": [
  {
   "cell_type": "code",
   "execution_count": 1,
   "id": "115d4bc7",
   "metadata": {},
   "outputs": [],
   "source": [
    "import pandas as pd\n",
    "import numpy as np\n",
    "import tensorflow as tf\n",
    "from tensorflow import keras\n",
    "import matplotlib.pyplot as plt"
   ]
  },
  {
   "cell_type": "code",
   "execution_count": 2,
   "id": "5224ca66",
   "metadata": {},
   "outputs": [],
   "source": [
    "fashion_mnist = keras.datasets.fashion_mnist\n",
    "(X_train_full, y_train_full),(X_test, y_test) = fashion_mnist.load_data()"
   ]
  },
  {
   "cell_type": "code",
   "execution_count": 3,
   "id": "aee8129a",
   "metadata": {},
   "outputs": [
    {
     "data": {
      "text/plain": [
       "<matplotlib.image.AxesImage at 0x16631c390>"
      ]
     },
     "execution_count": 3,
     "metadata": {},
     "output_type": "execute_result"
    },
    {
     "data": {
      "image/png": "[encoded data removed]",
      "text/plain": [
       "<Figure size 640x480 with 1 Axes>"
      ]
     },
     "metadata": {},
     "output_type": "display_data"
    }
   ],
   "source": [
    "plt.imshow(X_train_full[0])"
   ]
  },
  {
   "cell_type": "code",
   "execution_count": 4,
   "id": "f8f88efb",
   "metadata": {},
   "outputs": [
    {
     "data": {
      "text/plain": [
       "array([[  0,   0,   0,   0,   0,   1,   0,   0,   0,   0,  41, 188, 103,\n",
       "         54,  48,  43,  87, 168, 133,  16,   0,   0,   0,   0,   0,   0,\n",
       "          0,   0],\n",
       "       [  0,   0,   0,   1,   0,   0,   0,  49, 136, 219, 216, 228, 236,\n",
       "        255, 255, 255, 255, 217, 215, 254, 231, 160,  45,   0,   0,   0,\n",
       "          0,   0],\n",
       "       [  0,   0,   0,   0,   0,  14, 176, 222, 224, 212, 203, 198, 196,\n",
       "        200, 215, 204, 202, 201, 201, 201, 209, 218, 224, 164,   0,   0,\n",
       "          0,   0],\n",
       "       [  0,   0,   0,   0,   0, 188, 219, 200, 198, 202, 198, 199, 199,\n",
       "        201, 196, 198, 198, 200, 200, 200, 200, 201, 200, 225,  41,   0,\n",
       "          0,   0],\n",
       "       [  0,   0,   0,   0,  51, 219, 199, 203, 203, 212, 238, 248, 250,\n",
       "        245, 249, 246, 247, 252, 248, 235, 207, 203, 203, 222, 140,   0,\n",
       "          0,   0],\n",
       "       [  0,   0,   0,   0, 116, 226, 206, 204, 207, 204, 101,  75,  47,\n",
       "         73,  48,  50,  45,  51,  63, 113, 222, 202, 206, 220, 224,   0,\n",
       "          0,   0],\n",
       "       [  0,   0,   0,   0, 200, 222, 209, 203, 215, 200,   0,  70,  98,\n",
       "          0, 103,  59,  68,  71,  49,   0, 219, 206, 214, 210, 250,  38,\n",
       "          0,   0],\n",
       "       [  0,   0,   0,   0, 247, 218, 212, 210, 215, 214,   0, 254, 243,\n",
       "        139, 255, 174, 251, 255, 205,   0, 215, 217, 214, 208, 220,  95,\n",
       "          0,   0],\n",
       "       [  0,   0,   0,  45, 226, 214, 214, 215, 224, 205,   0,  42,  35,\n",
       "         60,  16,  17,  12,  13,  70,   0, 189, 216, 212, 206, 212, 156,\n",
       "          0,   0],\n",
       "       [  0,   0,   0, 164, 235, 214, 211, 220, 216, 201,  52,  71,  89,\n",
       "         94,  83,  78,  70,  76,  92,  87, 206, 207, 222, 213, 219, 208,\n",
       "          0,   0],\n",
       "       [  0,   0,   0, 106, 187, 223, 237, 248, 211, 198, 252, 250, 248,\n",
       "        245, 248, 252, 253, 250, 252, 239, 201, 212, 225, 215, 193, 113,\n",
       "          0,   0],\n",
       "       [  0,   0,   0,   0,   0,  17,  54, 159, 222, 193, 208, 192, 197,\n",
       "        200, 200, 200, 200, 201, 203, 195, 210, 165,   0,   0,   0,   0,\n",
       "          0,   0],\n",
       "       [  0,   0,   0,   0,   0,   0,   0,  47, 225, 192, 214, 203, 206,\n",
       "        204, 204, 205, 206, 204, 212, 197, 218, 107,   0,   0,   0,   0,\n",
       "          0,   0],\n",
       "       [  0,   0,   0,   0,   1,   6,   0,  46, 212, 195, 212, 202, 206,\n",
       "        205, 204, 205, 206, 204, 212, 200, 218,  91,   0,   3,   1,   0,\n",
       "          0,   0],\n",
       "       [  0,   0,   0,   0,   0,   1,   0,  11, 197, 199, 205, 202, 205,\n",
       "        206, 204, 205, 207, 204, 205, 205, 218,  77,   0,   5,   0,   0,\n",
       "          0,   0],\n",
       "       [  0,   0,   0,   0,   0,   3,   0,   2, 191, 198, 201, 205, 206,\n",
       "        205, 205, 206, 209, 206, 199, 209, 219,  74,   0,   5,   0,   0,\n",
       "          0,   0],\n",
       "       [  0,   0,   0,   0,   0,   2,   0,   0, 188, 197, 200, 207, 207,\n",
       "        204, 207, 207, 210, 208, 198, 207, 221,  72,   0,   4,   0,   0,\n",
       "          0,   0],\n",
       "       [  0,   0,   0,   0,   0,   2,   0,   0, 215, 198, 203, 206, 208,\n",
       "        205, 207, 207, 210, 208, 200, 202, 222,  75,   0,   4,   0,   0,\n",
       "          0,   0],\n",
       "       [  0,   0,   0,   0,   0,   1,   0,   0, 212, 198, 209, 206, 209,\n",
       "        206, 208, 207, 211, 206, 205, 198, 221,  80,   0,   3,   0,   0,\n",
       "          0,   0],\n",
       "       [  0,   0,   0,   0,   0,   1,   0,   0, 204, 201, 205, 208, 207,\n",
       "        205, 211, 205, 210, 210, 209, 195, 221,  96,   0,   3,   0,   0,\n",
       "          0,   0],\n",
       "       [  0,   0,   0,   0,   0,   1,   0,   0, 202, 201, 205, 209, 207,\n",
       "        205, 213, 206, 210, 209, 210, 194, 217, 105,   0,   2,   0,   0,\n",
       "          0,   0],\n",
       "       [  0,   0,   0,   0,   0,   1,   0,   0, 204, 204, 205, 208, 207,\n",
       "        205, 215, 207, 210, 208, 211, 193, 213, 115,   0,   2,   0,   0,\n",
       "          0,   0],\n",
       "       [  0,   0,   0,   0,   0,   0,   0,   0, 204, 207, 207, 208, 206,\n",
       "        206, 215, 210, 210, 207, 212, 195, 210, 118,   0,   2,   0,   0,\n",
       "          0,   0],\n",
       "       [  0,   0,   0,   0,   0,   1,   0,   0, 198, 208, 208, 208, 204,\n",
       "        207, 212, 212, 210, 207, 211, 196, 207, 121,   0,   1,   0,   0,\n",
       "          0,   0],\n",
       "       [  0,   0,   0,   0,   0,   1,   0,   0, 198, 210, 207, 208, 206,\n",
       "        209, 213, 212, 211, 207, 210, 197, 207, 124,   0,   1,   0,   0,\n",
       "          0,   0],\n",
       "       [  0,   0,   0,   0,   0,   0,   0,   0, 172, 210, 203, 201, 199,\n",
       "        204, 207, 205, 204, 201, 205, 197, 206, 127,   0,   0,   0,   0,\n",
       "          0,   0],\n",
       "       [  0,   0,   0,   0,   0,   0,   0,   0, 188, 221, 214, 234, 236,\n",
       "        238, 244, 244, 244, 240, 243, 214, 224, 162,   0,   2,   0,   0,\n",
       "          0,   0],\n",
       "       [  0,   0,   0,   0,   0,   1,   0,   0, 139, 146, 130, 135, 135,\n",
       "        137, 125, 124, 125, 121, 119, 114, 130,  76,   0,   0,   0,   0,\n",
       "          0,   0]], dtype=uint8)"
      ]
     },
     "execution_count": 4,
     "metadata": {},
     "output_type": "execute_result"
    }
   ],
   "source": [
    "X_train_full[1]"
   ]
  },
  {
   "cell_type": "code",
   "execution_count": 5,
   "id": "c630bfa3",
   "metadata": {},
   "outputs": [
    {
     "data": {
      "text/plain": [
       "9"
      ]
     },
     "execution_count": 5,
     "metadata": {},
     "output_type": "execute_result"
    }
   ],
   "source": [
    "y_train_full[0]"
   ]
  },
  {
   "cell_type": "code",
   "execution_count": 6,
   "id": "b5601503",
   "metadata": {},
   "outputs": [],
   "source": [
    "class_names = [\"T-shirt/top\",\"Trouser\",\"Pullover\",\"Dress\",\"Coat\",\"Sandal\",\"Shirt\",\"Sneaker\",\"Bag\",\"Ankle boot\"]"
   ]
  },
  {
   "cell_type": "code",
   "execution_count": 7,
   "id": "8bf9715c",
   "metadata": {},
   "outputs": [
    {
     "data": {
      "text/plain": [
       "'Ankle boot'"
      ]
     },
     "execution_count": 7,
     "metadata": {},
     "output_type": "execute_result"
    }
   ],
   "source": [
    "class_names[y_train_full[0]]"
   ]
  },
  {
   "cell_type": "code",
   "execution_count": 8,
   "id": "52cb447f",
   "metadata": {},
   "outputs": [],
   "source": [
    "X_train_n = X_train_full/255\n",
    "X_test_n = X_test/255"
   ]
  },
  {
   "cell_type": "code",
   "execution_count": 9,
   "id": "7ff39ddf",
   "metadata": {},
   "outputs": [],
   "source": [
    "X_valid, X_train = X_train_n[:5000],X_train_n[5000:]\n",
    "y_valid, y_train = y_train_full[:5000],y_train_full[5000:]\n",
    "X_test = X_test_n"
   ]
  },
  {
   "cell_type": "markdown",
   "id": "14d05166",
   "metadata": {},
   "source": [
    "# building and training model"
   ]
  },
  {
   "cell_type": "code",
   "execution_count": 10,
   "id": "a86997c2",
   "metadata": {},
   "outputs": [],
   "source": [
    "model1 = keras.models.Sequential()\n",
    "model1.add(keras.layers.Flatten(input_shape = [28,28]))\n",
    "model1.add(keras.layers.Dense(300,activation = 'relu'))\n",
    "model1.add(keras.layers.Dense(100,activation = 'relu'))\n",
    "model1.add(keras.layers.Dense(10,activation = 'softmax'))"
   ]
  },
  {
   "cell_type": "code",
   "execution_count": 11,
   "id": "9aaa2bae",
   "metadata": {},
   "outputs": [
    {
     "name": "stdout",
     "output_type": "stream",
     "text": [
      "Model: \"sequential\"\n",
      "_________________________________________________________________\n",
      " Layer (type)                Output Shape              Param #   \n",
      "=================================================================\n",
      " flatten (Flatten)           (None, 784)               0         \n",
      "                                                                 \n",
      " dense (Dense)               (None, 300)               235500    \n",
      "                                                                 \n",
      " dense_1 (Dense)             (None, 100)               30100     \n",
      "                                                                 \n",
      " dense_2 (Dense)             (None, 10)                1010      \n",
      "                                                                 \n",
      "=================================================================\n",
      "Total params: 266610 (1.02 MB)\n",
      "Trainable params: 266610 (1.02 MB)\n",
      "Non-trainable params: 0 (0.00 Byte)\n",
      "_________________________________________________________________\n"
     ]
    }
   ],
   "source": [
    "model1.summary()"
   ]
  },
  {
   "cell_type": "code",
   "execution_count": 12,
   "id": "e5df3164",
   "metadata": {},
   "outputs": [
    {
     "data": {
      "image/png": "[encoded data removed]",
      "text/plain": [
       "<IPython.core.display.Image object>"
      ]
     },
     "execution_count": 12,
     "metadata": {},
     "output_type": "execute_result"
    }
   ],
   "source": [
    "import pydot\n",
    "keras.utils.plot_model(model1)"
   ]
  },
  {
   "cell_type": "code",
   "execution_count": 14,
   "id": "b0331d7e",
   "metadata": {},
   "outputs": [],
   "source": [
    "weights, biases = model1.layers[1].get_weights()"
   ]
  },
  {
   "cell_type": "code",
   "execution_count": 15,
   "id": "67d9b39c",
   "metadata": {},
   "outputs": [
    {
     "data": {
      "text/plain": [
       "array([[-0.05660067, -0.02188727, -0.05418453, ...,  0.04104436,\n",
       "         0.01434465, -0.05578837],\n",
       "       [ 0.05991414, -0.07031319, -0.06643142, ..., -0.02182861,\n",
       "        -0.05392262,  0.03108452],\n",
       "       [ 0.02280753, -0.03870192,  0.04669767, ..., -0.06650044,\n",
       "         0.04366182,  0.02124859],\n",
       "       ...,\n",
       "       [ 0.01904167, -0.04914402,  0.06803825, ...,  0.04495494,\n",
       "         0.02375662,  0.05025364],\n",
       "       [-0.01550147,  0.0578863 , -0.01148286, ...,  0.05426528,\n",
       "        -0.0148236 , -0.01816255],\n",
       "       [-0.01304146,  0.04648998, -0.05642106, ..., -0.05959094,\n",
       "        -0.07118123, -0.04372785]], dtype=float32)"
      ]
     },
     "execution_count": 15,
     "metadata": {},
     "output_type": "execute_result"
    }
   ],
   "source": [
    "weights"
   ]
  },
  {
   "cell_type": "code",
   "execution_count": 16,
   "id": "57d60362",
   "metadata": {},
   "outputs": [
    {
     "data": {
      "text/plain": [
       "(784, 300)"
      ]
     },
     "execution_count": 16,
     "metadata": {},
     "output_type": "execute_result"
    }
   ],
   "source": [
    "weights.shape"
   ]
  },
  {
   "cell_type": "code",
   "execution_count": 17,
   "id": "c2622b26",
   "metadata": {},
   "outputs": [
    {
     "data": {
      "text/plain": [
       "array([0., 0., 0., 0., 0., 0., 0., 0., 0., 0., 0., 0., 0., 0., 0., 0., 0.,\n",
       "       0., 0., 0., 0., 0., 0., 0., 0., 0., 0., 0., 0., 0., 0., 0., 0., 0.,\n",
       "       0., 0., 0., 0., 0., 0., 0., 0., 0., 0., 0., 0., 0., 0., 0., 0., 0.,\n",
       "       0., 0., 0., 0., 0., 0., 0., 0., 0., 0., 0., 0., 0., 0., 0., 0., 0.,\n",
       "       0., 0., 0., 0., 0., 0., 0., 0., 0., 0., 0., 0., 0., 0., 0., 0., 0.,\n",
       "       0., 0., 0., 0., 0., 0., 0., 0., 0., 0., 0., 0., 0., 0., 0., 0., 0.,\n",
       "       0., 0., 0., 0., 0., 0., 0., 0., 0., 0., 0., 0., 0., 0., 0., 0., 0.,\n",
       "       0., 0., 0., 0., 0., 0., 0., 0., 0., 0., 0., 0., 0., 0., 0., 0., 0.,\n",
       "       0., 0., 0., 0., 0., 0., 0., 0., 0., 0., 0., 0., 0., 0., 0., 0., 0.,\n",
       "       0., 0., 0., 0., 0., 0., 0., 0., 0., 0., 0., 0., 0., 0., 0., 0., 0.,\n",
       "       0., 0., 0., 0., 0., 0., 0., 0., 0., 0., 0., 0., 0., 0., 0., 0., 0.,\n",
       "       0., 0., 0., 0., 0., 0., 0., 0., 0., 0., 0., 0., 0., 0., 0., 0., 0.,\n",
       "       0., 0., 0., 0., 0., 0., 0., 0., 0., 0., 0., 0., 0., 0., 0., 0., 0.,\n",
       "       0., 0., 0., 0., 0., 0., 0., 0., 0., 0., 0., 0., 0., 0., 0., 0., 0.,\n",
       "       0., 0., 0., 0., 0., 0., 0., 0., 0., 0., 0., 0., 0., 0., 0., 0., 0.,\n",
       "       0., 0., 0., 0., 0., 0., 0., 0., 0., 0., 0., 0., 0., 0., 0., 0., 0.,\n",
       "       0., 0., 0., 0., 0., 0., 0., 0., 0., 0., 0., 0., 0., 0., 0., 0., 0.,\n",
       "       0., 0., 0., 0., 0., 0., 0., 0., 0., 0., 0.], dtype=float32)"
      ]
     },
     "execution_count": 17,
     "metadata": {},
     "output_type": "execute_result"
    }
   ],
   "source": [
    "biases"
   ]
  },
  {
   "cell_type": "code",
   "execution_count": 18,
   "id": "986987cf",
   "metadata": {},
   "outputs": [
    {
     "data": {
      "text/plain": [
       "(300,)"
      ]
     },
     "execution_count": 18,
     "metadata": {},
     "output_type": "execute_result"
    }
   ],
   "source": [
    "biases.shape"
   ]
  },
  {
   "cell_type": "markdown",
   "id": "24fd9438",
   "metadata": {},
   "source": [
    "#TRAINING MODEL"
   ]
  },
  {
   "cell_type": "code",
   "execution_count": 19,
   "id": "b2b9495a",
   "metadata": {},
   "outputs": [],
   "source": [
    "model1.compile(loss=\"sparse_categorical_crossentropy\",optimizer = \"sgd\", metrics = [\"accuracy\"])"
   ]
  },
  {
   "cell_type": "code",
   "execution_count": 22,
   "id": "ef105e7a",
   "metadata": {},
   "outputs": [
    {
     "name": "stdout",
     "output_type": "stream",
     "text": [
      "Epoch 1/30\n",
      "1719/1719 [==============================] - 1s 612us/step - loss: 0.2228 - accuracy: 0.9205 - val_loss: 0.2901 - val_accuracy: 0.8978\n",
      "Epoch 2/30\n",
      "1719/1719 [==============================] - 1s 608us/step - loss: 0.2201 - accuracy: 0.9211 - val_loss: 0.3103 - val_accuracy: 0.8876\n",
      "Epoch 3/30\n",
      "1719/1719 [==============================] - 1s 602us/step - loss: 0.2160 - accuracy: 0.9228 - val_loss: 0.3193 - val_accuracy: 0.8834\n",
      "Epoch 4/30\n",
      "1719/1719 [==============================] - 1s 599us/step - loss: 0.2131 - accuracy: 0.9222 - val_loss: 0.3223 - val_accuracy: 0.8814\n",
      "Epoch 5/30\n",
      "1719/1719 [==============================] - 1s 595us/step - loss: 0.2105 - accuracy: 0.9245 - val_loss: 0.3027 - val_accuracy: 0.8872\n",
      "Epoch 6/30\n",
      "1719/1719 [==============================] - 1s 599us/step - loss: 0.2056 - accuracy: 0.9264 - val_loss: 0.2969 - val_accuracy: 0.8930\n",
      "Epoch 7/30\n",
      "1719/1719 [==============================] - 1s 599us/step - loss: 0.2028 - accuracy: 0.9274 - val_loss: 0.2928 - val_accuracy: 0.8940\n",
      "Epoch 8/30\n",
      "1719/1719 [==============================] - 1s 611us/step - loss: 0.1993 - accuracy: 0.9287 - val_loss: 0.2895 - val_accuracy: 0.8936\n",
      "Epoch 9/30\n",
      "1719/1719 [==============================] - 1s 611us/step - loss: 0.1965 - accuracy: 0.9300 - val_loss: 0.2844 - val_accuracy: 0.8960\n",
      "Epoch 10/30\n",
      "1719/1719 [==============================] - 1s 602us/step - loss: 0.1930 - accuracy: 0.9306 - val_loss: 0.3171 - val_accuracy: 0.8916\n",
      "Epoch 11/30\n",
      "1719/1719 [==============================] - 1s 608us/step - loss: 0.1903 - accuracy: 0.9312 - val_loss: 0.2934 - val_accuracy: 0.8946\n",
      "Epoch 12/30\n",
      "1719/1719 [==============================] - 1s 617us/step - loss: 0.1871 - accuracy: 0.9330 - val_loss: 0.2857 - val_accuracy: 0.8934\n",
      "Epoch 13/30\n",
      "1719/1719 [==============================] - 1s 603us/step - loss: 0.1844 - accuracy: 0.9345 - val_loss: 0.2924 - val_accuracy: 0.8962\n",
      "Epoch 14/30\n",
      "1719/1719 [==============================] - 1s 601us/step - loss: 0.1820 - accuracy: 0.9347 - val_loss: 0.2948 - val_accuracy: 0.8934\n",
      "Epoch 15/30\n",
      "1719/1719 [==============================] - 1s 638us/step - loss: 0.1787 - accuracy: 0.9354 - val_loss: 0.2827 - val_accuracy: 0.9000\n",
      "Epoch 16/30\n",
      "1719/1719 [==============================] - 1s 612us/step - loss: 0.1757 - accuracy: 0.9376 - val_loss: 0.2986 - val_accuracy: 0.8926\n",
      "Epoch 17/30\n",
      "1719/1719 [==============================] - 1s 611us/step - loss: 0.1724 - accuracy: 0.9387 - val_loss: 0.2910 - val_accuracy: 0.8950\n",
      "Epoch 18/30\n",
      "1719/1719 [==============================] - 1s 605us/step - loss: 0.1699 - accuracy: 0.9398 - val_loss: 0.3065 - val_accuracy: 0.8902\n",
      "Epoch 19/30\n",
      "1719/1719 [==============================] - 1s 607us/step - loss: 0.1674 - accuracy: 0.9412 - val_loss: 0.2895 - val_accuracy: 0.8986\n",
      "Epoch 20/30\n",
      "1719/1719 [==============================] - 1s 612us/step - loss: 0.1662 - accuracy: 0.9405 - val_loss: 0.3114 - val_accuracy: 0.8866\n",
      "Epoch 21/30\n",
      "1719/1719 [==============================] - 1s 608us/step - loss: 0.1628 - accuracy: 0.9419 - val_loss: 0.2924 - val_accuracy: 0.8940\n",
      "Epoch 22/30\n",
      "1719/1719 [==============================] - 1s 610us/step - loss: 0.1596 - accuracy: 0.9436 - val_loss: 0.2912 - val_accuracy: 0.8960\n",
      "Epoch 23/30\n",
      "1719/1719 [==============================] - 1s 610us/step - loss: 0.1574 - accuracy: 0.9444 - val_loss: 0.2883 - val_accuracy: 0.8988\n",
      "Epoch 24/30\n",
      "1719/1719 [==============================] - 1s 611us/step - loss: 0.1543 - accuracy: 0.9453 - val_loss: 0.2922 - val_accuracy: 0.8964\n",
      "Epoch 25/30\n",
      "1719/1719 [==============================] - 1s 615us/step - loss: 0.1522 - accuracy: 0.9466 - val_loss: 0.2952 - val_accuracy: 0.9022\n",
      "Epoch 26/30\n",
      "1719/1719 [==============================] - 1s 607us/step - loss: 0.1504 - accuracy: 0.9470 - val_loss: 0.3028 - val_accuracy: 0.8982\n",
      "Epoch 27/30\n",
      "1719/1719 [==============================] - 1s 609us/step - loss: 0.1468 - accuracy: 0.9478 - val_loss: 0.2845 - val_accuracy: 0.8980\n",
      "Epoch 28/30\n",
      "1719/1719 [==============================] - 1s 603us/step - loss: 0.1450 - accuracy: 0.9484 - val_loss: 0.3206 - val_accuracy: 0.8892\n",
      "Epoch 29/30\n",
      "1719/1719 [==============================] - 1s 603us/step - loss: 0.1423 - accuracy: 0.9501 - val_loss: 0.3016 - val_accuracy: 0.8960\n",
      "Epoch 30/30\n",
      "1719/1719 [==============================] - 1s 658us/step - loss: 0.1388 - accuracy: 0.9515 - val_loss: 0.2907 - val_accuracy: 0.8986\n"
     ]
    }
   ],
   "source": [
    "model_history = model1.fit(X_train,y_train, epochs = 30, validation_data = (X_valid, y_valid))"
   ]
  },
  {
   "cell_type": "code",
   "execution_count": 25,
   "id": "884612dd",
   "metadata": {},
   "outputs": [
    {
     "data": {
      "text/plain": [
       "{'verbose': 1, 'epochs': 30, 'steps': 1719}"
      ]
     },
     "execution_count": 25,
     "metadata": {},
     "output_type": "execute_result"
    }
   ],
   "source": [
    "model_history.params"
   ]
  },
  {
   "cell_type": "code",
   "execution_count": 26,
   "id": "8efe9225",
   "metadata": {},
   "outputs": [
    {
     "data": {
      "text/plain": [
       "{'loss': [0.22278936207294464,\n",
       "  0.2201181948184967,\n",
       "  0.21596232056617737,\n",
       "  0.21306994557380676,\n",
       "  0.21054531633853912,\n",
       "  0.20557177066802979,\n",
       "  0.20277723670005798,\n",
       "  0.19931989908218384,\n",
       "  0.1965293139219284,\n",
       "  0.19301222264766693,\n",
       "  0.19028761982917786,\n",
       "  0.18707439303398132,\n",
       "  0.18442295491695404,\n",
       "  0.18201293051242828,\n",
       "  0.1787085235118866,\n",
       "  0.17570476233959198,\n",
       "  0.17235803604125977,\n",
       "  0.1698501706123352,\n",
       "  0.16738764941692352,\n",
       "  0.1661837249994278,\n",
       "  0.16283324360847473,\n",
       "  0.1596122831106186,\n",
       "  0.15742823481559753,\n",
       "  0.15427947044372559,\n",
       "  0.1522381752729416,\n",
       "  0.15039052069187164,\n",
       "  0.14678595960140228,\n",
       "  0.14504534006118774,\n",
       "  0.14228135347366333,\n",
       "  0.13879796862602234],\n",
       " 'accuracy': [0.9204727411270142,\n",
       "  0.9210909008979797,\n",
       "  0.9228181838989258,\n",
       "  0.9222363829612732,\n",
       "  0.9244727492332458,\n",
       "  0.9264363646507263,\n",
       "  0.9273818135261536,\n",
       "  0.928672730922699,\n",
       "  0.9300363659858704,\n",
       "  0.9305636286735535,\n",
       "  0.931181788444519,\n",
       "  0.9329817891120911,\n",
       "  0.9344909191131592,\n",
       "  0.9347454309463501,\n",
       "  0.9354000091552734,\n",
       "  0.9375818371772766,\n",
       "  0.9387454390525818,\n",
       "  0.9397818446159363,\n",
       "  0.9412181973457336,\n",
       "  0.9404727220535278,\n",
       "  0.9418908953666687,\n",
       "  0.9435818195343018,\n",
       "  0.9444363713264465,\n",
       "  0.9452909231185913,\n",
       "  0.9465818405151367,\n",
       "  0.9470363855361938,\n",
       "  0.9477818012237549,\n",
       "  0.9484000205993652,\n",
       "  0.950072705745697,\n",
       "  0.9515091180801392],\n",
       " 'val_loss': [0.29010242223739624,\n",
       "  0.31032946705818176,\n",
       "  0.31934407353401184,\n",
       "  0.3223426640033722,\n",
       "  0.3026933968067169,\n",
       "  0.2969174385070801,\n",
       "  0.292827308177948,\n",
       "  0.2895173728466034,\n",
       "  0.2843899428844452,\n",
       "  0.31710126996040344,\n",
       "  0.2933586537837982,\n",
       "  0.2857204079627991,\n",
       "  0.2923676371574402,\n",
       "  0.2948322594165802,\n",
       "  0.2826944887638092,\n",
       "  0.298581600189209,\n",
       "  0.29098638892173767,\n",
       "  0.30647018551826477,\n",
       "  0.2894887328147888,\n",
       "  0.31142061948776245,\n",
       "  0.29240450263023376,\n",
       "  0.2912234961986542,\n",
       "  0.2883460819721222,\n",
       "  0.2921934127807617,\n",
       "  0.29524174332618713,\n",
       "  0.3028426766395569,\n",
       "  0.2844507098197937,\n",
       "  0.32059764862060547,\n",
       "  0.30159056186676025,\n",
       "  0.29067376255989075],\n",
       " 'val_accuracy': [0.8978000283241272,\n",
       "  0.8876000046730042,\n",
       "  0.883400022983551,\n",
       "  0.8813999891281128,\n",
       "  0.8871999979019165,\n",
       "  0.8930000066757202,\n",
       "  0.8939999938011169,\n",
       "  0.8935999870300293,\n",
       "  0.8960000276565552,\n",
       "  0.8916000127792358,\n",
       "  0.894599974155426,\n",
       "  0.8934000134468079,\n",
       "  0.8962000012397766,\n",
       "  0.8934000134468079,\n",
       "  0.8999999761581421,\n",
       "  0.8925999999046326,\n",
       "  0.8949999809265137,\n",
       "  0.8902000188827515,\n",
       "  0.8985999822616577,\n",
       "  0.8866000175476074,\n",
       "  0.8939999938011169,\n",
       "  0.8960000276565552,\n",
       "  0.8988000154495239,\n",
       "  0.896399974822998,\n",
       "  0.9021999835968018,\n",
       "  0.8981999754905701,\n",
       "  0.8980000019073486,\n",
       "  0.88919997215271,\n",
       "  0.8960000276565552,\n",
       "  0.8985999822616577]}"
      ]
     },
     "execution_count": 26,
     "metadata": {},
     "output_type": "execute_result"
    }
   ],
   "source": [
    "model_history.history"
   ]
  },
  {
   "cell_type": "markdown",
   "id": "b0c39a07",
   "metadata": {},
   "source": [
    "#PLOT"
   ]
  },
  {
   "cell_type": "code",
   "execution_count": 28,
   "id": "16427510",
   "metadata": {},
   "outputs": [
    {
     "data": {
      "image/png": "[encoded data removed]",
      "text/plain": [
       "<Figure size 800x500 with 1 Axes>"
      ]
     },
     "metadata": {},
     "output_type": "display_data"
    }
   ],
   "source": [
    "pd.DataFrame(model_history.history).plot(figsize = (8,5))\n",
    "plt.grid(True)\n",
    "plt.gca().set_ylim(0,1)\n",
    "plt.show()"
   ]
  },
  {
   "cell_type": "markdown",
   "id": "da579e51",
   "metadata": {},
   "source": [
    "# Evaluation"
   ]
  },
  {
   "cell_type": "code",
   "execution_count": 29,
   "id": "2be5b696",
   "metadata": {},
   "outputs": [
    {
     "name": "stdout",
     "output_type": "stream",
     "text": [
      "313/313 [==============================] - 0s 361us/step - loss: 0.3353 - accuracy: 0.8905\n"
     ]
    },
    {
     "data": {
      "text/plain": [
       "[0.3353286683559418, 0.890500009059906]"
      ]
     },
     "execution_count": 29,
     "metadata": {},
     "output_type": "execute_result"
    }
   ],
   "source": [
    "model1.evaluate(X_test,y_test)"
   ]
  },
  {
   "cell_type": "markdown",
   "id": "e127b48b",
   "metadata": {},
   "source": [
    "#PREDICTING"
   ]
  },
  {
   "cell_type": "code",
   "execution_count": 30,
   "id": "718e75d0",
   "metadata": {},
   "outputs": [],
   "source": [
    "X_new = X_test[:3]"
   ]
  },
  {
   "cell_type": "code",
   "execution_count": 33,
   "id": "c3ec13a5",
   "metadata": {},
   "outputs": [
    {
     "name": "stdout",
     "output_type": "stream",
     "text": [
      "1/1 [==============================] - 0s 13ms/step\n"
     ]
    },
    {
     "data": {
      "text/plain": [
       "array([[0., 0., 0., 0., 0., 0., 0., 0., 0., 1.],\n",
       "       [0., 0., 1., 0., 0., 0., 0., 0., 0., 0.],\n",
       "       [0., 1., 0., 0., 0., 0., 0., 0., 0., 0.]], dtype=float32)"
      ]
     },
     "execution_count": 33,
     "metadata": {},
     "output_type": "execute_result"
    }
   ],
   "source": [
    "y_proba = model1.predict(X_new)\n",
    "y_proba.round(2)"
   ]
  },
  {
   "cell_type": "code",
   "execution_count": 38,
   "id": "dabfc31e",
   "metadata": {},
   "outputs": [
    {
     "name": "stdout",
     "output_type": "stream",
     "text": [
      "1/1 [==============================] - 0s 13ms/step\n"
     ]
    },
    {
     "data": {
      "text/plain": [
       "array([9, 2, 1])"
      ]
     },
     "execution_count": 38,
     "metadata": {},
     "output_type": "execute_result"
    }
   ],
   "source": [
    "y_pred = np.argmax(model1.predict(X_new),axis = 1)\n",
    "y_pred"
   ]
  },
  {
   "cell_type": "code",
   "execution_count": 39,
   "id": "40ad69d6",
   "metadata": {},
   "outputs": [
    {
     "data": {
      "text/plain": [
       "array(['Ankle boot', 'Pullover', 'Trouser'], dtype='<U11')"
      ]
     },
     "execution_count": 39,
     "metadata": {},
     "output_type": "execute_result"
    }
   ],
   "source": [
    "np.array(class_names)[y_pred]"
   ]
  },
  {
   "cell_type": "code",
   "execution_count": null,
   "id": "1bf1bf1d",
   "metadata": {},
   "outputs": [],
   "source": []
  }
 ],
 "metadata": {
  "kernelspec": {
   "display_name": "Python 3 (ipykernel)",
   "language": "python",
   "name": "python3"
  },
  "language_info": {
   "codemirror_mode": {
    "name": "ipython",
    "version": 3
   },
   "file_extension": ".py",
   "mimetype": "text/x-python",
   "name": "python",
   "nbconvert_exporter": "python",
   "pygments_lexer": "ipython3",
   "version": "3.11.3"
  }
 },
 "nbformat": 4,
 "nbformat_minor": 5
}
